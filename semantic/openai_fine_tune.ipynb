{
 "cells": [
  {
   "cell_type": "code",
   "execution_count": null,
   "metadata": {},
   "outputs": [],
   "source": [
    "import json\n",
    "import openai\n",
    "import datetime\n",
    "import obsidiantools.api as otools\n",
    "from pathlib import Path\n",
    "import os"
   ]
  },
  {
   "cell_type": "code",
   "execution_count": null,
   "metadata": {},
   "outputs": [],
   "source": [
    "wkd = Path(os.getcwd()).parent.parent.parent\n",
    "vault = otools.Vault(wkd).connect(show_nested_tags=True).gather()\n",
    "\n",
    "corpus = []\n",
    "for k, v in vault.readable_text_index.items():\n",
    "    corpus.append(v)\n"
   ]
  },
  {
   "cell_type": "code",
   "execution_count": null,
   "metadata": {},
   "outputs": [],
   "source": [
    "out_file_name = f\"./fine_tune_{datetime.date.today().strftime('%d_%m_%Y')}.jsonl\"\n",
    "\n",
    "for e in corpus:\n",
    "    with open(out_file_name, \"a+\") as outfile:\n",
    "        json.dump({\n",
    "            \"prompt\": f\"\",\n",
    "            \"completion\": f\" {e} END\",\n",
    "        }, outfile)\n",
    "        outfile.write('\\n')"
   ]
  },
  {
   "cell_type": "code",
   "execution_count": null,
   "metadata": {},
   "outputs": [],
   "source": [
    "!head -n3 $out_file_name | jq ."
   ]
  },
  {
   "cell_type": "code",
   "execution_count": null,
   "metadata": {},
   "outputs": [],
   "source": [
    "!echo \"execute: openai tools fine_tunes.prepare_data -f $(pwd)/$out_file_name\""
   ]
  },
  {
   "cell_type": "code",
   "execution_count": null,
   "metadata": {},
   "outputs": [],
   "source": [
    "from sklearn.model_selection import train_test_split\n",
    "import pandas as pd\n",
    "train, test = train_test_split(\n",
    "    open(f\"{out_file_name.replace('.jsonl', '_prepared.jsonl')}\").read().splitlines(), test_size=0.1)\n",
    "with open(f\"{out_file_name.replace('.jsonl', '')}_prepared_train.jsonl\", \"w\") as outfile:\n",
    "    outfile.write(\"\\n\".join(train))\n",
    "with open(f\"{out_file_name.replace('.jsonl', '')}_prepared_test.jsonl\", \"w\") as outfile:\n",
    "    outfile.write(\"\\n\".join(test))"
   ]
  },
  {
   "cell_type": "code",
   "execution_count": null,
   "metadata": {},
   "outputs": [],
   "source": [
    "!head -n3 {out_file_name.replace('.jsonl', '')}_prepared_train.jsonl | jq ."
   ]
  },
  {
   "cell_type": "code",
   "execution_count": null,
   "metadata": {},
   "outputs": [],
   "source": [
    "from openai.wandb_logger import WandbLogger\n",
    "import wandb\n",
    "import re\n",
    "values = open(\".env\", \"r\").read()\n",
    "wandb_key = re.findall(r\"WANDB_KEY=\\\"(.*)\\\"\", values)[0]\n",
    "wandb.login(key=wandb_key, relogin=True)\n",
    "openai.api_key = re.findall(r\"OPENAI_API_KEY=\\\"(.*)\\\"\", values)[0]\n",
    "openai.organization = re.findall(r\"OPENAI_ORGANIZATION=\\\"(.*)\\\"\", values)[0]"
   ]
  },
  {
   "cell_type": "code",
   "execution_count": null,
   "metadata": {},
   "outputs": [],
   "source": [
    "train_file = openai.File.create(\n",
    "  file=open(f\"{out_file_name.replace('.jsonl', '')}_prepared_train.jsonl\", \"rb\"),\n",
    "  purpose=\"fine-tune\"\n",
    ")\n",
    "valid_file = openai.File.create(\n",
    "  file=open(f\"{out_file_name.replace('.jsonl', '')}_prepared_test.jsonl\", \"rb\"),\n",
    "  purpose=\"fine-tune\"\n",
    ")\n",
    "ft = openai.FineTune.create(\n",
    "    training_file=train_file[\"id\"],\n",
    "    validation_file=valid_file[\"id\"],\n",
    "    model=\"curie\",\n",
    ")"
   ]
  },
  {
   "cell_type": "code",
   "execution_count": null,
   "metadata": {},
   "outputs": [],
   "source": [
    "WandbLogger.sync(\n",
    "    id=ft[\"id\"],\n",
    "    project=\"obsidian-openai\",\n",
    "    tags=[\"generation\"],\n",
    ")"
   ]
  },
  {
   "cell_type": "code",
   "execution_count": null,
   "metadata": {},
   "outputs": [],
   "source": [
    "import re\n",
    "import openai\n",
    "import datetime\n",
    "values = open(\".env\", \"r\").read()\n",
    "openai.api_key = re.findall(r\"OPENAI_API_KEY=\\\"(.*)\\\"\", values)[0]\n",
    "openai.organization = re.findall(r\"OPENAI_ORGANIZATION=\\\"(.*)\\\"\", values)[0]\n",
    "model = \"curie:ft-personal-2022-09-17-07-49-44\"\n",
    "outputs = []\n",
    "async def comp():\n",
    "    response = openai.Completion.create(\n",
    "      model=model,\n",
    "      prompt=\"\",\n",
    "      temperature=0.7,\n",
    "      max_tokens=256,\n",
    "      top_p=1,\n",
    "      frequency_penalty=0,\n",
    "      presence_penalty=0,\n",
    "      stop=[\"END\"]\n",
    "    )\n",
    "    outputs.append(response[\"choices\"][0][\"text\"])\n",
    "import asyncio\n",
    "# generate 100 samples into a file\n",
    "await asyncio.gather(*[comp() for _ in range(10)])\n",
    "  \n",
    "with open(f\"./{model}_{datetime.date.today().strftime('%d_%m_%Y')}.jsonl\", \"w\") as outfile:\n",
    "  outfile.write((\"\\n\"+(\"-\"*5)+\"\\n\").join(outputs))"
   ]
  }
 ],
 "metadata": {
  "kernelspec": {
   "display_name": "Python 3.10.8 64-bit",
   "language": "python",
   "name": "python3"
  },
  "language_info": {
   "codemirror_mode": {
    "name": "ipython",
    "version": 3
   },
   "file_extension": ".py",
   "mimetype": "text/x-python",
   "name": "python",
   "nbconvert_exporter": "python",
   "pygments_lexer": "ipython3",
   "version": "3.10.8"
  },
  "orig_nbformat": 4,
  "vscode": {
   "interpreter": {
    "hash": "b0fa6594d8f4cbf19f97940f81e996739fb7646882a419484c72d19e05852a7e"
   }
  }
 },
 "nbformat": 4,
 "nbformat_minor": 2
}
