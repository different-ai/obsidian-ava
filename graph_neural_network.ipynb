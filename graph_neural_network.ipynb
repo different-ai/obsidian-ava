{
 "cells": [
  {
   "cell_type": "code",
   "execution_count": null,
   "metadata": {},
   "outputs": [],
   "source": [
    "# https://pytorch-geometric.readthedocs.io/en/latest/notes/installation.html"
   ]
  },
  {
   "cell_type": "code",
   "execution_count": 1,
   "metadata": {},
   "outputs": [
    {
     "name": "stderr",
     "output_type": "stream",
     "text": [
      "/Users/louisbeaumont/Documents/brain/.obsidian/plugins/obsidian-ava/env/lib/python3.8/site-packages/tqdm/auto.py:22: TqdmWarning: IProgress not found. Please update jupyter and ipywidgets. See https://ipywidgets.readthedocs.io/en/stable/user_install.html\n",
      "  from .autonotebook import tqdm as notebook_tqdm\n"
     ]
    },
    {
     "ename": "ParserError",
     "evalue": "while parsing a flow sequence\n  in \"<unicode string>\", line 3, column 10:\n    aliases: [researchgate.net,(PDF) the Capa ... \n             ^\nexpected ',' or ']', but got '?'\n  in \"<unicode string>\", line 3, column 98:\n     ...  There Any Limit to Human Memory?]\n                                         ^",
     "output_type": "error",
     "traceback": [
      "\u001b[0;31m---------------------------------------------------------------------------\u001b[0m",
      "\u001b[0;31mParserError\u001b[0m                               Traceback (most recent call last)",
      "Cell \u001b[0;32mIn [1], line 12\u001b[0m\n\u001b[1;32m      9\u001b[0m \u001b[39mfrom\u001b[39;00m \u001b[39mtorch_geometric\u001b[39;00m\u001b[39m.\u001b[39;00m\u001b[39mloader\u001b[39;00m \u001b[39mimport\u001b[39;00m DataLoader\n\u001b[1;32m     11\u001b[0m wkd \u001b[39m=\u001b[39m Path(os\u001b[39m.\u001b[39mgetcwd())\u001b[39m.\u001b[39mparent\u001b[39m.\u001b[39mparent\u001b[39m.\u001b[39mparent\n\u001b[0;32m---> 12\u001b[0m vault \u001b[39m=\u001b[39m otools\u001b[39m.\u001b[39;49mVault(wkd)\u001b[39m.\u001b[39;49mconnect()\u001b[39m.\u001b[39mgather()\n",
      "File \u001b[0;32m~/Documents/brain/.obsidian/plugins/obsidian-ava/env/lib/python3.8/site-packages/obsidiantools/api.py:228\u001b[0m, in \u001b[0;36mVault.connect\u001b[0;34m(self)\u001b[0m\n\u001b[1;32m    218\u001b[0m \u001b[39m\"\"\"connect your notes together by representing the vault as a\u001b[39;00m\n\u001b[1;32m    219\u001b[0m \u001b[39mNetworkx graph object, G.\u001b[39;00m\n\u001b[1;32m    220\u001b[0m \n\u001b[0;32m   (...)\u001b[0m\n\u001b[1;32m    224\u001b[0m \u001b[39mThe graph G is written to the 'graph' attribute.\u001b[39;00m\n\u001b[1;32m    225\u001b[0m \u001b[39m\"\"\"\u001b[39;00m\n\u001b[1;32m    226\u001b[0m \u001b[39mif\u001b[39;00m \u001b[39mnot\u001b[39;00m \u001b[39mself\u001b[39m\u001b[39m.\u001b[39m_is_connected:\n\u001b[1;32m    227\u001b[0m     \u001b[39m# default graph to mirror Obsidian's link counts\u001b[39;00m\n\u001b[0;32m--> 228\u001b[0m     wiki_link_map \u001b[39m=\u001b[39m \u001b[39mself\u001b[39;49m\u001b[39m.\u001b[39;49m_get_wikilinks_index()\n\u001b[1;32m    229\u001b[0m     G \u001b[39m=\u001b[39m nx\u001b[39m.\u001b[39mMultiDiGraph(wiki_link_map)\n\u001b[1;32m    230\u001b[0m     \u001b[39mself\u001b[39m\u001b[39m.\u001b[39m_graph \u001b[39m=\u001b[39m G\n",
      "File \u001b[0;32m~/Documents/brain/.obsidian/plugins/obsidian-ava/env/lib/python3.8/site-packages/obsidiantools/api.py:508\u001b[0m, in \u001b[0;36mVault._get_wikilinks_index\u001b[0;34m(self)\u001b[0m\n\u001b[1;32m    504\u001b[0m \u001b[39mdef\u001b[39;00m \u001b[39m_get_wikilinks_index\u001b[39m(\u001b[39mself\u001b[39m):\n\u001b[1;32m    505\u001b[0m     \u001b[39m\"\"\"Return k,v pairs\u001b[39;00m\n\u001b[1;32m    506\u001b[0m \u001b[39m    where k is the md filename\u001b[39;00m\n\u001b[1;32m    507\u001b[0m \u001b[39m    and v is list of ALL wikilinks found in k\"\"\"\u001b[39;00m\n\u001b[0;32m--> 508\u001b[0m     \u001b[39mreturn\u001b[39;00m {k: get_wikilinks(\u001b[39mself\u001b[39m\u001b[39m.\u001b[39m_dirpath \u001b[39m/\u001b[39m v)\n\u001b[1;32m    509\u001b[0m             \u001b[39mfor\u001b[39;00m k, v \u001b[39min\u001b[39;00m \u001b[39mself\u001b[39m\u001b[39m.\u001b[39m_file_index\u001b[39m.\u001b[39mitems()}\n",
      "File \u001b[0;32m~/Documents/brain/.obsidian/plugins/obsidian-ava/env/lib/python3.8/site-packages/obsidiantools/api.py:508\u001b[0m, in \u001b[0;36m<dictcomp>\u001b[0;34m(.0)\u001b[0m\n\u001b[1;32m    504\u001b[0m \u001b[39mdef\u001b[39;00m \u001b[39m_get_wikilinks_index\u001b[39m(\u001b[39mself\u001b[39m):\n\u001b[1;32m    505\u001b[0m     \u001b[39m\"\"\"Return k,v pairs\u001b[39;00m\n\u001b[1;32m    506\u001b[0m \u001b[39m    where k is the md filename\u001b[39;00m\n\u001b[1;32m    507\u001b[0m \u001b[39m    and v is list of ALL wikilinks found in k\"\"\"\u001b[39;00m\n\u001b[0;32m--> 508\u001b[0m     \u001b[39mreturn\u001b[39;00m {k: get_wikilinks(\u001b[39mself\u001b[39;49m\u001b[39m.\u001b[39;49m_dirpath \u001b[39m/\u001b[39;49m v)\n\u001b[1;32m    509\u001b[0m             \u001b[39mfor\u001b[39;00m k, v \u001b[39min\u001b[39;00m \u001b[39mself\u001b[39m\u001b[39m.\u001b[39m_file_index\u001b[39m.\u001b[39mitems()}\n",
      "File \u001b[0;32m~/Documents/brain/.obsidian/plugins/obsidian-ava/env/lib/python3.8/site-packages/obsidiantools/md_utils.py:106\u001b[0m, in \u001b[0;36mget_wikilinks\u001b[0;34m(filepath)\u001b[0m\n\u001b[1;32m     87\u001b[0m \u001b[39mdef\u001b[39;00m \u001b[39mget_wikilinks\u001b[39m(filepath):\n\u001b[1;32m     88\u001b[0m     \u001b[39m\"\"\"Get ALL wikilinks from a md file.\u001b[39;00m\n\u001b[1;32m     89\u001b[0m \u001b[39m    The links' order of appearance in the file IS preserved in the output.\u001b[39;00m\n\u001b[1;32m     90\u001b[0m \n\u001b[0;32m   (...)\u001b[0m\n\u001b[1;32m    104\u001b[0m \u001b[39m        list of strings\u001b[39;00m\n\u001b[1;32m    105\u001b[0m \u001b[39m    \"\"\"\u001b[39;00m\n\u001b[0;32m--> 106\u001b[0m     src_txt \u001b[39m=\u001b[39m _get_source_text_from_md_file(filepath, remove_code\u001b[39m=\u001b[39;49m\u001b[39mTrue\u001b[39;49;00m)\n\u001b[1;32m    108\u001b[0m     wikilinks \u001b[39m=\u001b[39m _get_all_wikilinks_from_source_text(\n\u001b[1;32m    109\u001b[0m         src_txt, remove_aliases\u001b[39m=\u001b[39m\u001b[39mTrue\u001b[39;00m)\n\u001b[1;32m    110\u001b[0m     \u001b[39mreturn\u001b[39;00m wikilinks\n",
      "File \u001b[0;32m~/Documents/brain/.obsidian/plugins/obsidian-ava/env/lib/python3.8/site-packages/obsidiantools/md_utils.py:288\u001b[0m, in \u001b[0;36m_get_source_text_from_md_file\u001b[0;34m(filepath, remove_code, str_transform_func)\u001b[0m\n\u001b[1;32m    286\u001b[0m \u001b[39m\"\"\"md file -> html (without front matter) -> ASCII plaintext\"\"\"\u001b[39;00m\n\u001b[1;32m    287\u001b[0m \u001b[39m# strip out front matter (if any):\u001b[39;00m\n\u001b[0;32m--> 288\u001b[0m html \u001b[39m=\u001b[39m _get_html_from_md_file(\n\u001b[1;32m    289\u001b[0m     filepath,\n\u001b[1;32m    290\u001b[0m     str_transform_func\u001b[39m=\u001b[39;49mstr_transform_func)\n\u001b[1;32m    291\u001b[0m \u001b[39mif\u001b[39;00m remove_code:\n\u001b[1;32m    292\u001b[0m     html \u001b[39m=\u001b[39m _remove_code(html)\n",
      "File \u001b[0;32m~/Documents/brain/.obsidian/plugins/obsidian-ava/env/lib/python3.8/site-packages/obsidiantools/md_utils.py:268\u001b[0m, in \u001b[0;36m_get_html_from_md_file\u001b[0;34m(filepath, str_transform_func)\u001b[0m\n\u001b[1;32m    261\u001b[0m \u001b[39mdef\u001b[39;00m \u001b[39m_get_html_from_md_file\u001b[39m(filepath, \u001b[39m*\u001b[39m, str_transform_func\u001b[39m=\u001b[39m\u001b[39mNone\u001b[39;00m):\n\u001b[1;32m    262\u001b[0m     \u001b[39m\"\"\"md file -> html (without front matter).\u001b[39;00m\n\u001b[1;32m    263\u001b[0m \n\u001b[1;32m    264\u001b[0m \u001b[39m    pymarkdown extensions are used and configured to reflect the Obsidian\u001b[39;00m\n\u001b[1;32m    265\u001b[0m \u001b[39m    experience as much as possible.  For example, arithmatex is necessary\u001b[39;00m\n\u001b[1;32m    266\u001b[0m \u001b[39m    to parse math, md_mermaid for mermaid diagram support, etc.\u001b[39;00m\n\u001b[1;32m    267\u001b[0m \u001b[39m    \"\"\"\u001b[39;00m\n\u001b[0;32m--> 268\u001b[0m     _, content \u001b[39m=\u001b[39m _get_md_front_matter_and_content(\n\u001b[1;32m    269\u001b[0m         filepath,\n\u001b[1;32m    270\u001b[0m         str_transform_func\u001b[39m=\u001b[39;49mstr_transform_func)\n\u001b[1;32m    271\u001b[0m     html \u001b[39m=\u001b[39m markdown\u001b[39m.\u001b[39mmarkdown(content, output_format\u001b[39m=\u001b[39m\u001b[39m'\u001b[39m\u001b[39mhtml\u001b[39m\u001b[39m'\u001b[39m,\n\u001b[1;32m    272\u001b[0m                              extensions\u001b[39m=\u001b[39m[\u001b[39m'\u001b[39m\u001b[39mpymdownx.arithmatex\u001b[39m\u001b[39m'\u001b[39m,\n\u001b[1;32m    273\u001b[0m                                          \u001b[39m'\u001b[39m\u001b[39mpymdownx.mark\u001b[39m\u001b[39m'\u001b[39m,\n\u001b[0;32m   (...)\u001b[0m\n\u001b[1;32m    279\u001b[0m                              extension_configs\u001b[39m=\u001b[39m{\u001b[39m'\u001b[39m\u001b[39mpymdownx.tilde\u001b[39m\u001b[39m'\u001b[39m:\n\u001b[1;32m    280\u001b[0m                                                 {\u001b[39m'\u001b[39m\u001b[39msubscript\u001b[39m\u001b[39m'\u001b[39m: \u001b[39mFalse\u001b[39;00m}})\n\u001b[1;32m    281\u001b[0m     \u001b[39mreturn\u001b[39;00m html\n",
      "File \u001b[0;32m~/Documents/brain/.obsidian/plugins/obsidian-ava/env/lib/python3.8/site-packages/obsidiantools/md_utils.py:249\u001b[0m, in \u001b[0;36m_get_md_front_matter_and_content\u001b[0;34m(filepath, str_transform_func)\u001b[0m\n\u001b[1;32m    247\u001b[0m     \u001b[39mif\u001b[39;00m str_transform_func:\n\u001b[1;32m    248\u001b[0m         file_string \u001b[39m=\u001b[39m str_transform_func(file_string)\n\u001b[0;32m--> 249\u001b[0m     \u001b[39mreturn\u001b[39;00m frontmatter\u001b[39m.\u001b[39;49mparse(file_string)\n\u001b[1;32m    250\u001b[0m \u001b[39m# for invalid YAML, return the whole file as content:\u001b[39;00m\n\u001b[1;32m    251\u001b[0m \u001b[39mexcept\u001b[39;00m yaml\u001b[39m.\u001b[39mscanner\u001b[39m.\u001b[39mScannerError:\n",
      "File \u001b[0;32m~/Documents/brain/.obsidian/plugins/obsidian-ava/env/lib/python3.8/site-packages/frontmatter/__init__.py:82\u001b[0m, in \u001b[0;36mparse\u001b[0;34m(text, encoding, handler, **defaults)\u001b[0m\n\u001b[1;32m     79\u001b[0m     \u001b[39mreturn\u001b[39;00m metadata, text\n\u001b[1;32m     81\u001b[0m \u001b[39m# parse, now that we have frontmatter\u001b[39;00m\n\u001b[0;32m---> 82\u001b[0m fm \u001b[39m=\u001b[39m handler\u001b[39m.\u001b[39;49mload(fm)\n\u001b[1;32m     83\u001b[0m \u001b[39mif\u001b[39;00m \u001b[39misinstance\u001b[39m(fm, \u001b[39mdict\u001b[39m):\n\u001b[1;32m     84\u001b[0m     metadata\u001b[39m.\u001b[39mupdate(fm)\n",
      "File \u001b[0;32m~/Documents/brain/.obsidian/plugins/obsidian-ava/env/lib/python3.8/site-packages/frontmatter/default_handlers.py:238\u001b[0m, in \u001b[0;36mYAMLHandler.load\u001b[0;34m(self, fm, **kwargs)\u001b[0m\n\u001b[1;32m    234\u001b[0m \u001b[39m\"\"\"\u001b[39;00m\n\u001b[1;32m    235\u001b[0m \u001b[39mParse YAML front matter. This uses yaml.SafeLoader by default.\u001b[39;00m\n\u001b[1;32m    236\u001b[0m \u001b[39m\"\"\"\u001b[39;00m\n\u001b[1;32m    237\u001b[0m kwargs\u001b[39m.\u001b[39msetdefault(\u001b[39m\"\u001b[39m\u001b[39mLoader\u001b[39m\u001b[39m\"\u001b[39m, SafeLoader)\n\u001b[0;32m--> 238\u001b[0m \u001b[39mreturn\u001b[39;00m yaml\u001b[39m.\u001b[39;49mload(fm, \u001b[39m*\u001b[39;49m\u001b[39m*\u001b[39;49mkwargs)\n",
      "File \u001b[0;32m~/Documents/brain/.obsidian/plugins/obsidian-ava/env/lib/python3.8/site-packages/yaml/__init__.py:81\u001b[0m, in \u001b[0;36mload\u001b[0;34m(stream, Loader)\u001b[0m\n\u001b[1;32m     79\u001b[0m loader \u001b[39m=\u001b[39m Loader(stream)\n\u001b[1;32m     80\u001b[0m \u001b[39mtry\u001b[39;00m:\n\u001b[0;32m---> 81\u001b[0m     \u001b[39mreturn\u001b[39;00m loader\u001b[39m.\u001b[39;49mget_single_data()\n\u001b[1;32m     82\u001b[0m \u001b[39mfinally\u001b[39;00m:\n\u001b[1;32m     83\u001b[0m     loader\u001b[39m.\u001b[39mdispose()\n",
      "File \u001b[0;32m~/Documents/brain/.obsidian/plugins/obsidian-ava/env/lib/python3.8/site-packages/yaml/constructor.py:49\u001b[0m, in \u001b[0;36mBaseConstructor.get_single_data\u001b[0;34m(self)\u001b[0m\n\u001b[1;32m     47\u001b[0m \u001b[39mdef\u001b[39;00m \u001b[39mget_single_data\u001b[39m(\u001b[39mself\u001b[39m):\n\u001b[1;32m     48\u001b[0m     \u001b[39m# Ensure that the stream contains a single document and construct it.\u001b[39;00m\n\u001b[0;32m---> 49\u001b[0m     node \u001b[39m=\u001b[39m \u001b[39mself\u001b[39;49m\u001b[39m.\u001b[39;49mget_single_node()\n\u001b[1;32m     50\u001b[0m     \u001b[39mif\u001b[39;00m node \u001b[39mis\u001b[39;00m \u001b[39mnot\u001b[39;00m \u001b[39mNone\u001b[39;00m:\n\u001b[1;32m     51\u001b[0m         \u001b[39mreturn\u001b[39;00m \u001b[39mself\u001b[39m\u001b[39m.\u001b[39mconstruct_document(node)\n",
      "File \u001b[0;32m~/Documents/brain/.obsidian/plugins/obsidian-ava/env/lib/python3.8/site-packages/yaml/composer.py:36\u001b[0m, in \u001b[0;36mComposer.get_single_node\u001b[0;34m(self)\u001b[0m\n\u001b[1;32m     34\u001b[0m document \u001b[39m=\u001b[39m \u001b[39mNone\u001b[39;00m\n\u001b[1;32m     35\u001b[0m \u001b[39mif\u001b[39;00m \u001b[39mnot\u001b[39;00m \u001b[39mself\u001b[39m\u001b[39m.\u001b[39mcheck_event(StreamEndEvent):\n\u001b[0;32m---> 36\u001b[0m     document \u001b[39m=\u001b[39m \u001b[39mself\u001b[39;49m\u001b[39m.\u001b[39;49mcompose_document()\n\u001b[1;32m     38\u001b[0m \u001b[39m# Ensure that the stream contains no more documents.\u001b[39;00m\n\u001b[1;32m     39\u001b[0m \u001b[39mif\u001b[39;00m \u001b[39mnot\u001b[39;00m \u001b[39mself\u001b[39m\u001b[39m.\u001b[39mcheck_event(StreamEndEvent):\n",
      "File \u001b[0;32m~/Documents/brain/.obsidian/plugins/obsidian-ava/env/lib/python3.8/site-packages/yaml/composer.py:55\u001b[0m, in \u001b[0;36mComposer.compose_document\u001b[0;34m(self)\u001b[0m\n\u001b[1;32m     52\u001b[0m \u001b[39mself\u001b[39m\u001b[39m.\u001b[39mget_event()\n\u001b[1;32m     54\u001b[0m \u001b[39m# Compose the root node.\u001b[39;00m\n\u001b[0;32m---> 55\u001b[0m node \u001b[39m=\u001b[39m \u001b[39mself\u001b[39;49m\u001b[39m.\u001b[39;49mcompose_node(\u001b[39mNone\u001b[39;49;00m, \u001b[39mNone\u001b[39;49;00m)\n\u001b[1;32m     57\u001b[0m \u001b[39m# Drop the DOCUMENT-END event.\u001b[39;00m\n\u001b[1;32m     58\u001b[0m \u001b[39mself\u001b[39m\u001b[39m.\u001b[39mget_event()\n",
      "File \u001b[0;32m~/Documents/brain/.obsidian/plugins/obsidian-ava/env/lib/python3.8/site-packages/yaml/composer.py:84\u001b[0m, in \u001b[0;36mComposer.compose_node\u001b[0;34m(self, parent, index)\u001b[0m\n\u001b[1;32m     82\u001b[0m     node \u001b[39m=\u001b[39m \u001b[39mself\u001b[39m\u001b[39m.\u001b[39mcompose_sequence_node(anchor)\n\u001b[1;32m     83\u001b[0m \u001b[39melif\u001b[39;00m \u001b[39mself\u001b[39m\u001b[39m.\u001b[39mcheck_event(MappingStartEvent):\n\u001b[0;32m---> 84\u001b[0m     node \u001b[39m=\u001b[39m \u001b[39mself\u001b[39;49m\u001b[39m.\u001b[39;49mcompose_mapping_node(anchor)\n\u001b[1;32m     85\u001b[0m \u001b[39mself\u001b[39m\u001b[39m.\u001b[39mascend_resolver()\n\u001b[1;32m     86\u001b[0m \u001b[39mreturn\u001b[39;00m node\n",
      "File \u001b[0;32m~/Documents/brain/.obsidian/plugins/obsidian-ava/env/lib/python3.8/site-packages/yaml/composer.py:133\u001b[0m, in \u001b[0;36mComposer.compose_mapping_node\u001b[0;34m(self, anchor)\u001b[0m\n\u001b[1;32m    129\u001b[0m item_key \u001b[39m=\u001b[39m \u001b[39mself\u001b[39m\u001b[39m.\u001b[39mcompose_node(node, \u001b[39mNone\u001b[39;00m)\n\u001b[1;32m    130\u001b[0m \u001b[39m#if item_key in node.value:\u001b[39;00m\n\u001b[1;32m    131\u001b[0m \u001b[39m#    raise ComposerError(\"while composing a mapping\", start_event.start_mark,\u001b[39;00m\n\u001b[1;32m    132\u001b[0m \u001b[39m#            \"found duplicate key\", key_event.start_mark)\u001b[39;00m\n\u001b[0;32m--> 133\u001b[0m item_value \u001b[39m=\u001b[39m \u001b[39mself\u001b[39;49m\u001b[39m.\u001b[39;49mcompose_node(node, item_key)\n\u001b[1;32m    134\u001b[0m \u001b[39m#node.value[item_key] = item_value\u001b[39;00m\n\u001b[1;32m    135\u001b[0m node\u001b[39m.\u001b[39mvalue\u001b[39m.\u001b[39mappend((item_key, item_value))\n",
      "File \u001b[0;32m~/Documents/brain/.obsidian/plugins/obsidian-ava/env/lib/python3.8/site-packages/yaml/composer.py:82\u001b[0m, in \u001b[0;36mComposer.compose_node\u001b[0;34m(self, parent, index)\u001b[0m\n\u001b[1;32m     80\u001b[0m     node \u001b[39m=\u001b[39m \u001b[39mself\u001b[39m\u001b[39m.\u001b[39mcompose_scalar_node(anchor)\n\u001b[1;32m     81\u001b[0m \u001b[39melif\u001b[39;00m \u001b[39mself\u001b[39m\u001b[39m.\u001b[39mcheck_event(SequenceStartEvent):\n\u001b[0;32m---> 82\u001b[0m     node \u001b[39m=\u001b[39m \u001b[39mself\u001b[39;49m\u001b[39m.\u001b[39;49mcompose_sequence_node(anchor)\n\u001b[1;32m     83\u001b[0m \u001b[39melif\u001b[39;00m \u001b[39mself\u001b[39m\u001b[39m.\u001b[39mcheck_event(MappingStartEvent):\n\u001b[1;32m     84\u001b[0m     node \u001b[39m=\u001b[39m \u001b[39mself\u001b[39m\u001b[39m.\u001b[39mcompose_mapping_node(anchor)\n",
      "File \u001b[0;32m~/Documents/brain/.obsidian/plugins/obsidian-ava/env/lib/python3.8/site-packages/yaml/composer.py:110\u001b[0m, in \u001b[0;36mComposer.compose_sequence_node\u001b[0;34m(self, anchor)\u001b[0m\n\u001b[1;32m    108\u001b[0m     \u001b[39mself\u001b[39m\u001b[39m.\u001b[39manchors[anchor] \u001b[39m=\u001b[39m node\n\u001b[1;32m    109\u001b[0m index \u001b[39m=\u001b[39m \u001b[39m0\u001b[39m\n\u001b[0;32m--> 110\u001b[0m \u001b[39mwhile\u001b[39;00m \u001b[39mnot\u001b[39;00m \u001b[39mself\u001b[39;49m\u001b[39m.\u001b[39;49mcheck_event(SequenceEndEvent):\n\u001b[1;32m    111\u001b[0m     node\u001b[39m.\u001b[39mvalue\u001b[39m.\u001b[39mappend(\u001b[39mself\u001b[39m\u001b[39m.\u001b[39mcompose_node(node, index))\n\u001b[1;32m    112\u001b[0m     index \u001b[39m+\u001b[39m\u001b[39m=\u001b[39m \u001b[39m1\u001b[39m\n",
      "File \u001b[0;32m~/Documents/brain/.obsidian/plugins/obsidian-ava/env/lib/python3.8/site-packages/yaml/parser.py:98\u001b[0m, in \u001b[0;36mParser.check_event\u001b[0;34m(self, *choices)\u001b[0m\n\u001b[1;32m     96\u001b[0m \u001b[39mif\u001b[39;00m \u001b[39mself\u001b[39m\u001b[39m.\u001b[39mcurrent_event \u001b[39mis\u001b[39;00m \u001b[39mNone\u001b[39;00m:\n\u001b[1;32m     97\u001b[0m     \u001b[39mif\u001b[39;00m \u001b[39mself\u001b[39m\u001b[39m.\u001b[39mstate:\n\u001b[0;32m---> 98\u001b[0m         \u001b[39mself\u001b[39m\u001b[39m.\u001b[39mcurrent_event \u001b[39m=\u001b[39m \u001b[39mself\u001b[39;49m\u001b[39m.\u001b[39;49mstate()\n\u001b[1;32m     99\u001b[0m \u001b[39mif\u001b[39;00m \u001b[39mself\u001b[39m\u001b[39m.\u001b[39mcurrent_event \u001b[39mis\u001b[39;00m \u001b[39mnot\u001b[39;00m \u001b[39mNone\u001b[39;00m:\n\u001b[1;32m    100\u001b[0m     \u001b[39mif\u001b[39;00m \u001b[39mnot\u001b[39;00m choices:\n",
      "File \u001b[0;32m~/Documents/brain/.obsidian/plugins/obsidian-ava/env/lib/python3.8/site-packages/yaml/parser.py:483\u001b[0m, in \u001b[0;36mParser.parse_flow_sequence_entry\u001b[0;34m(self, first)\u001b[0m\n\u001b[1;32m    481\u001b[0m     \u001b[39melse\u001b[39;00m:\n\u001b[1;32m    482\u001b[0m         token \u001b[39m=\u001b[39m \u001b[39mself\u001b[39m\u001b[39m.\u001b[39mpeek_token()\n\u001b[0;32m--> 483\u001b[0m         \u001b[39mraise\u001b[39;00m ParserError(\u001b[39m\"\u001b[39m\u001b[39mwhile parsing a flow sequence\u001b[39m\u001b[39m\"\u001b[39m, \u001b[39mself\u001b[39m\u001b[39m.\u001b[39mmarks[\u001b[39m-\u001b[39m\u001b[39m1\u001b[39m],\n\u001b[1;32m    484\u001b[0m                 \u001b[39m\"\u001b[39m\u001b[39mexpected \u001b[39m\u001b[39m'\u001b[39m\u001b[39m,\u001b[39m\u001b[39m'\u001b[39m\u001b[39m or \u001b[39m\u001b[39m'\u001b[39m\u001b[39m]\u001b[39m\u001b[39m'\u001b[39m\u001b[39m, but got \u001b[39m\u001b[39m%r\u001b[39;00m\u001b[39m\"\u001b[39m \u001b[39m%\u001b[39m token\u001b[39m.\u001b[39mid, token\u001b[39m.\u001b[39mstart_mark)\n\u001b[1;32m    486\u001b[0m \u001b[39mif\u001b[39;00m \u001b[39mself\u001b[39m\u001b[39m.\u001b[39mcheck_token(KeyToken):\n\u001b[1;32m    487\u001b[0m     token \u001b[39m=\u001b[39m \u001b[39mself\u001b[39m\u001b[39m.\u001b[39mpeek_token()\n",
      "\u001b[0;31mParserError\u001b[0m: while parsing a flow sequence\n  in \"<unicode string>\", line 3, column 10:\n    aliases: [researchgate.net,(PDF) the Capa ... \n             ^\nexpected ',' or ']', but got '?'\n  in \"<unicode string>\", line 3, column 98:\n     ...  There Any Limit to Human Memory?]\n                                         ^"
     ]
    }
   ],
   "source": [
    "import torch\n",
    "import json\n",
    "import openai\n",
    "import datetime\n",
    "import obsidiantools.api as otools\n",
    "from pathlib import Path\n",
    "import os\n",
    "from torch_geometric.data import Data\n",
    "from torch_geometric.loader import DataLoader\n",
    "\n",
    "wkd = Path(os.getcwd()).parent.parent.parent\n",
    "vault = otools.Vault(wkd).connect().gather()\n",
    "\n",
    "# data_list = []\n",
    "# for k, v in vault.readable_text_index.items():\n",
    "#     data_list.append(Data(x=torch.tensor(v\n",
    "\n",
    "# loader = DataLoader(data_list, batch_size=32)\n"
   ]
  },
  {
   "cell_type": "code",
   "execution_count": 2,
   "metadata": {},
   "outputs": [
    {
     "ename": "NameError",
     "evalue": "name 'vault' is not defined",
     "output_type": "error",
     "traceback": [
      "\u001b[0;31m---------------------------------------------------------------------------\u001b[0m",
      "\u001b[0;31mNameError\u001b[0m                                 Traceback (most recent call last)",
      "Cell \u001b[0;32mIn [2], line 1\u001b[0m\n\u001b[0;32m----> 1\u001b[0m vault\u001b[39m.\u001b[39mgraph\n",
      "\u001b[0;31mNameError\u001b[0m: name 'vault' is not defined"
     ]
    }
   ],
   "source": [
    "vault.graph"
   ]
  }
 ],
 "metadata": {
  "kernelspec": {
   "display_name": "Python 3.8.13 ('env': venv)",
   "language": "python",
   "name": "python3"
  },
  "language_info": {
   "codemirror_mode": {
    "name": "ipython",
    "version": 3
   },
   "file_extension": ".py",
   "mimetype": "text/x-python",
   "name": "python",
   "nbconvert_exporter": "python",
   "pygments_lexer": "ipython3",
   "version": "3.8.13"
  },
  "orig_nbformat": 4,
  "vscode": {
   "interpreter": {
    "hash": "eddc71dd976ac4021c418a83513af4a3a9e8a87c5733f71deeaeb6a27b82de3a"
   }
  }
 },
 "nbformat": 4,
 "nbformat_minor": 2
}
